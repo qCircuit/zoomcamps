{
 "cells": [
  {
   "cell_type": "code",
   "execution_count": 1,
   "metadata": {},
   "outputs": [],
   "source": [
    "import pandas as pd\n",
    "import seaborn as sns\n",
    "\n",
    "from sklearn.feature_extraction import DictVectorizer\n",
    "from sklearn.metrics import mean_squared_error\n",
    "\n",
    "from sklearn.linear_model import LinearRegression\n",
    "from xgboost import XGBRegressor\n",
    "\n",
    "data_path = \"data\"\n",
    "\n",
    "def configura():\n",
    "    return None\n",
    "configura.train_path = \"data/yellow_tripdata_2022-01.parquet\"\n",
    "configura.test_path = \"data/yellow_tripdata_2022-02.parquet\"\n",
    "\n",
    "configura.categorical = ['PULocationID', 'DOLocationID']"
   ]
  },
  {
   "attachments": {},
   "cell_type": "markdown",
   "metadata": {},
   "source": [
    "### Preparacion de datos:"
   ]
  },
  {
   "cell_type": "code",
   "execution_count": 2,
   "metadata": {},
   "outputs": [],
   "source": [
    "def process_df(train=False):\n",
    "    # leer los datos\n",
    "    data_path = f\"{configura.train_path}\" if train else f\"{configura.test_path}\"\n",
    "    df = pd.read_parquet(data_path) \n",
    "    print(f\"forma crudo: {df.shape}\")\n",
    "    # conseguir el objectivo\n",
    "    df[\"duration\"] = df.tpep_dropoff_datetime - df.tpep_pickup_datetime\n",
    "    df.duration = df.duration.dt.total_seconds() / 60\n",
    "    print(f\"desviacion estandar: {df.duration.std()}\")\n",
    "    # cortar delineadores\n",
    "    sh = len(df)\n",
    "    df = df[(df.duration >= 1) & (df.duration <= 60)].copy()\n",
    "    print(f\"el compartir tras cortar delineadores {len(df)/sh}\")\n",
    "\n",
    "    # coficar las variables categoricas\n",
    "    df[configura.categorical] = df[configura.categorical].fillna(-1).astype('int')\n",
    "    df[configura.categorical] = df[configura.categorical].astype(str)\n",
    "    dicts = df[configura.categorical].to_dict(orient='records')\n",
    "    \n",
    "    if train:\n",
    "        configura.dv = DictVectorizer()\n",
    "        configura.dv.fit(dicts)\n",
    "    \n",
    "    x = configura.dv.transform(dicts)\n",
    "    y = df.duration.values\n",
    "    print(f\"dimensionalidad de datos: {x.shape, y.shape}\")\n",
    "    \n",
    "    return x,y"
   ]
  },
  {
   "cell_type": "code",
   "execution_count": 3,
   "metadata": {},
   "outputs": [
    {
     "name": "stdout",
     "output_type": "stream",
     "text": [
      "train:\n",
      "forma crudo: (2463931, 19)\n",
      "desviacion estandar: 46.44530513776499\n",
      "el compartir tras cortar delineadores 0.9827547930522406\n",
      "dimensionalidad de datos: ((2421440, 515), (2421440,))\n",
      "test:\n",
      "forma crudo: (2979431, 19)\n",
      "desviacion estandar: 47.26394076781901\n",
      "el compartir tras cortar delineadores 0.979444397269143\n",
      "dimensionalidad de datos: ((2918187, 515), (2918187,))\n"
     ]
    }
   ],
   "source": [
    "print(\"train:\")\n",
    "xtr, ytr = process_df(True)\n",
    "print(\"test:\")\n",
    "xts, yts = process_df()"
   ]
  },
  {
   "attachments": {},
   "cell_type": "markdown",
   "metadata": {},
   "source": [
    "### Ajuste y evaluacion del modelo (lineal vs booster):"
   ]
  },
  {
   "cell_type": "code",
   "execution_count": 4,
   "metadata": {},
   "outputs": [],
   "source": [
    "def evaluate_model(model, x, y, train=False):\n",
    "    mode = \"train\" if train else \"validation\" \n",
    "    print(f\"evaluando modelo {model.__name__} con los datos de {mode}\")\n",
    "    if train:\n",
    "        configura.model = model()\n",
    "        configura.model.fit(x, y)\n",
    "    ypr = configura.model.predict(x)\n",
    "\n",
    "    print(f\"error medio cuadrado: {mean_squared_error(y, ypr, squared=False)}\")\n",
    "\n",
    "    return model, ypr"
   ]
  },
  {
   "cell_type": "code",
   "execution_count": 5,
   "metadata": {},
   "outputs": [
    {
     "name": "stdout",
     "output_type": "stream",
     "text": [
      "evaluando modelo LinearRegression con los datos de train\n",
      "error medio cuadrado: 6.986190841034851\n",
      "\n",
      "evaluando modelo LinearRegression con los datos de validation\n",
      "error medio cuadrado: 7.786408695263233\n"
     ]
    }
   ],
   "source": [
    "model, ypr = evaluate_model(LinearRegression, xtr, ytr, True)\n",
    "print()\n",
    "model, ypr = evaluate_model(LinearRegression, xts, yts)"
   ]
  },
  {
   "cell_type": "code",
   "execution_count": 6,
   "metadata": {},
   "outputs": [
    {
     "name": "stdout",
     "output_type": "stream",
     "text": [
      "evaluando modelo XGBRegressor con los datos de train\n",
      "error medio cuadrado: 6.407957119404122\n",
      "\n",
      "evaluando modelo XGBRegressor con los datos de validation\n",
      "error medio cuadrado: 7.269462424996284\n"
     ]
    }
   ],
   "source": [
    "model, ypr = evaluate_model(XGBRegressor, xtr, ytr, True)\n",
    "print()\n",
    "model, ypr = evaluate_model(XGBRegressor, xts, yts)"
   ]
  }
 ],
 "metadata": {
  "kernelspec": {
   "display_name": "Python 3 (ipykernel)",
   "language": "python",
   "name": "python3"
  },
  "language_info": {
   "codemirror_mode": {
    "name": "ipython",
    "version": 3
   },
   "file_extension": ".py",
   "mimetype": "text/x-python",
   "name": "python",
   "nbconvert_exporter": "python",
   "pygments_lexer": "ipython3",
   "version": "3.10.9"
  },
  "orig_nbformat": 4
 },
 "nbformat": 4,
 "nbformat_minor": 2
}
