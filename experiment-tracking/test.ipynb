{
 "cells": [
  {
   "cell_type": "code",
   "execution_count": 4,
   "metadata": {},
   "outputs": [],
   "source": [
    "import os\n",
    "import pickle\n",
    "import click\n",
    "import mlflow\n",
    "\n",
    "from sklearn.ensemble import RandomForestRegressor\n",
    "from sklearn.metrics import mean_squared_error\n",
    "\n",
    "from mlflow.entities import ViewType\n",
    "from mlflow.tracking import MlflowClient\n",
    "\n",
    "HPO_EXPERIMENT_NAME = \"random-forest-hyperopt\"\n",
    "EXPERIMENT_NAME = \"random-forest-best-models\"\n",
    "RF_PARAMS = ['max_depth', 'n_estimators', 'min_samples_split', 'min_samples_leaf', 'random_state', 'n_jobs']\n",
    "\n",
    "\n",
    "MLFLOW_TRACKING_URI = \"sqlite:///mlflow.db\"\n",
    "mlflow.set_tracking_uri(MLFLOW_TRACKING_URI)\n",
    "mlflow.set_experiment(\"random-forest-hyperopt\")\n",
    "mlflow.sklearn.autolog()\n",
    "\n",
    "def load_pickle(filename):\n",
    "    with open(filename, \"rb\") as f_in:\n",
    "        return pickle.load(f_in)\n",
    "    \n",
    "\n",
    "def train_and_log_model(data_path, params):\n",
    "    xtr, ytr = load_pickle(os.path.join(data_path, \"train.pkl\"))\n",
    "    xvl, yvl = load_pickle(os.path.join(data_path, \"val.pkl\"))\n",
    "    xts, yts = load_pickle(os.path.join(data_path, \"test.pkl\"))\n",
    "    \n",
    "    with mlflow.start_run():\n",
    "        for param in RF_PARAMS:\n",
    "            params[param] = int(params[param])\n",
    "\n",
    "        rf = RandomForestRegressor(**params)\n",
    "        rf.fit(xtr, ytr)\n",
    "        \n",
    "        val_rmse = mean_squared_error(yvl, rf.predict(xvl), squared=False)\n",
    "        mlflow.log_metric(\"val_rmse\", val_rmse)\n",
    "        test_rmse = mean_squared_error(yts, rf.predict(xts), squared=False) \n",
    "        mlflow.log_metric(\"test_rmse\", test_rmse)"
   ]
  },
  {
   "cell_type": "code",
   "execution_count": 34,
   "metadata": {},
   "outputs": [
    {
     "name": "stderr",
     "output_type": "stream",
     "text": [
      "Successfully registered model 'BestModel'.\n",
      "2023/05/19 15:42:09 INFO mlflow.tracking._model_registry.client: Waiting up to 300 seconds for model version to finish creation. Model name: BestModel, version 1\n"
     ]
    },
    {
     "name": "stdout",
     "output_type": "stream",
     "text": [
      "Registered model: BestModel (version 1)\n"
     ]
    },
    {
     "name": "stderr",
     "output_type": "stream",
     "text": [
      "Created version '1' of model 'BestModel'.\n"
     ]
    }
   ],
   "source": [
    "top_n = 5\n",
    "data_path = \"output/\"\n",
    "\n",
    "client = MlflowClient()\n",
    "experiment = client.get_experiment_by_name(HPO_EXPERIMENT_NAME)\n",
    "runs = client.search_runs(\n",
    "    experiment_ids=experiment.experiment_id,\n",
    "    run_view_type=ViewType.ACTIVE_ONLY,\n",
    "    max_results=top_n,\n",
    "    order_by=[\"metrics.rmse ASC\"]\n",
    ")\n",
    "for run in runs:\n",
    "    train_and_log_model(data_path, run.data.params)\n",
    "\n",
    "experiment = client.get_experiment_by_name(EXPERIMENT_NAME)\n",
    "\n",
    "best_run = runs[0]\n",
    "run_id = best_run.info.run_id\n",
    "model_uri = f\"runs:/{run_id}/model\"\n",
    "registered_model = mlflow.register_model(model_uri, \"BestModel\")\n",
    "print(f\"Registered model: {registered_model.name} (version {registered_model.version})\")\n"
   ]
  },
  {
   "cell_type": "code",
   "execution_count": 41,
   "metadata": {},
   "outputs": [
    {
     "data": {
      "text/plain": [
       "{'rmse': 2.449827329704216}"
      ]
     },
     "execution_count": 41,
     "metadata": {},
     "output_type": "execute_result"
    }
   ],
   "source": []
  },
  {
   "cell_type": "code",
   "execution_count": null,
   "metadata": {},
   "outputs": [],
   "source": []
  },
  {
   "cell_type": "code",
   "execution_count": null,
   "metadata": {},
   "outputs": [],
   "source": [
    "best_run = client.search_runs( ...  )[0]"
   ]
  },
  {
   "cell_type": "code",
   "execution_count": 29,
   "metadata": {},
   "outputs": [
    {
     "data": {
      "text/plain": [
       "[]"
      ]
     },
     "execution_count": 29,
     "metadata": {},
     "output_type": "execute_result"
    }
   ],
   "source": [
    "client.search_runs(experiment_ids=\"ff69fbe331b545da8fabe6e6a01e3d52\")"
   ]
  },
  {
   "cell_type": "code",
   "execution_count": 28,
   "metadata": {},
   "outputs": [
    {
     "data": {
      "text/plain": [
       "[<Run: data=<RunData: metrics={'rmse': 2.449827329704216}, params={'max_depth': 15,\n",
       "  'min_samples_leaf': 4,\n",
       "  'min_samples_split': 2,\n",
       "  'n_estimators': 34,\n",
       "  'n_jobs': -1,\n",
       "  'random_state': 42}, tags={'mlflow.parentRunId': 'ff69fbe331b545da8fabe6e6a01e3d52',\n",
       "  'mlflow.runName': 'enchanting-goat-162',\n",
       "  'mlflow.source.git.commit': 'b9c7dce564cafb5a24e39eb21f5b9c048a6e0834',\n",
       "  'mlflow.source.name': 'hpo.py',\n",
       "  'mlflow.source.type': 'LOCAL',\n",
       "  'mlflow.user': 'hilbert'}>, info=<RunInfo: artifact_uri='/home/hilbert/zoomcamps/experiment-tracking/mlruns/2/112d51d2f5904aac9642105ca7d7b1b1/artifacts', end_time=1684438918860, experiment_id='2', lifecycle_stage='active', run_id='112d51d2f5904aac9642105ca7d7b1b1', run_name='enchanting-goat-162', run_uuid='112d51d2f5904aac9642105ca7d7b1b1', start_time=1684438918114, status='FINISHED', user_id='hilbert'>>,\n",
       " <Run: data=<RunData: metrics={'rmse': 2.451379690825458}, params={'max_depth': 20,\n",
       "  'min_samples_leaf': 3,\n",
       "  'min_samples_split': 8,\n",
       "  'n_estimators': 25,\n",
       "  'n_jobs': -1,\n",
       "  'random_state': 42}, tags={'mlflow.parentRunId': '0da43b8b51d84de5b46465368035f53a',\n",
       "  'mlflow.runName': 'rumbling-dog-618',\n",
       "  'mlflow.source.git.commit': 'b9c7dce564cafb5a24e39eb21f5b9c048a6e0834',\n",
       "  'mlflow.source.name': 'hpo.py',\n",
       "  'mlflow.source.type': 'LOCAL',\n",
       "  'mlflow.user': 'hilbert'}>, info=<RunInfo: artifact_uri='/home/hilbert/zoomcamps/experiment-tracking/mlruns/2/6cd31c526e4247038acf76ee6bb0ad40/artifacts', end_time=1684438917872, experiment_id='2', lifecycle_stage='active', run_id='6cd31c526e4247038acf76ee6bb0ad40', run_name='rumbling-dog-618', run_uuid='6cd31c526e4247038acf76ee6bb0ad40', start_time=1684438917100, status='FINISHED', user_id='hilbert'>>,\n",
       " <Run: data=<RunData: metrics={'rmse': 2.4516421799356767}, params={'max_depth': 16,\n",
       "  'min_samples_leaf': 3,\n",
       "  'min_samples_split': 3,\n",
       "  'n_estimators': 28,\n",
       "  'n_jobs': -1,\n",
       "  'random_state': 42}, tags={'mlflow.parentRunId': 'b91e651f240a4a0284b34988c0041b8b',\n",
       "  'mlflow.runName': 'powerful-mouse-510',\n",
       "  'mlflow.source.git.commit': 'b9c7dce564cafb5a24e39eb21f5b9c048a6e0834',\n",
       "  'mlflow.source.name': 'hpo.py',\n",
       "  'mlflow.source.type': 'LOCAL',\n",
       "  'mlflow.user': 'hilbert'}>, info=<RunInfo: artifact_uri='/home/hilbert/zoomcamps/experiment-tracking/mlruns/2/7f96f97ce25a42efa16393bb70a1d5dd/artifacts', end_time=1684438920364, experiment_id='2', lifecycle_stage='active', run_id='7f96f97ce25a42efa16393bb70a1d5dd', run_name='powerful-mouse-510', run_uuid='7f96f97ce25a42efa16393bb70a1d5dd', start_time=1684438919758, status='FINISHED', user_id='hilbert'>>,\n",
       " <Run: data=<RunData: metrics={'rmse': 2.453877262701052}, params={'max_depth': 11,\n",
       "  'min_samples_leaf': 2,\n",
       "  'min_samples_split': 5,\n",
       "  'n_estimators': 22,\n",
       "  'n_jobs': -1,\n",
       "  'random_state': 42}, tags={'mlflow.parentRunId': 'd9baa83d919041c9809d05bb26ac14e5',\n",
       "  'mlflow.runName': 'awesome-shrike-720',\n",
       "  'mlflow.source.git.commit': 'b9c7dce564cafb5a24e39eb21f5b9c048a6e0834',\n",
       "  'mlflow.source.name': 'hpo.py',\n",
       "  'mlflow.source.type': 'LOCAL',\n",
       "  'mlflow.user': 'hilbert'}>, info=<RunInfo: artifact_uri='/home/hilbert/zoomcamps/experiment-tracking/mlruns/2/2a62ff23a4364a0ba71bcc5ca10e9bf0/artifacts', end_time=1684438919481, experiment_id='2', lifecycle_stage='active', run_id='2a62ff23a4364a0ba71bcc5ca10e9bf0', run_name='awesome-shrike-720', run_uuid='2a62ff23a4364a0ba71bcc5ca10e9bf0', start_time=1684438919148, status='FINISHED', user_id='hilbert'>>,\n",
       " <Run: data=<RunData: metrics={'rmse': 2.455971238567075}, params={'max_depth': 19,\n",
       "  'min_samples_leaf': 4,\n",
       "  'min_samples_split': 10,\n",
       "  'n_estimators': 12,\n",
       "  'n_jobs': -1,\n",
       "  'random_state': 42}, tags={'mlflow.parentRunId': '1802e323c32543ffa27dba7d1cefcb25',\n",
       "  'mlflow.runName': 'abundant-ray-949',\n",
       "  'mlflow.source.git.commit': 'b9c7dce564cafb5a24e39eb21f5b9c048a6e0834',\n",
       "  'mlflow.source.name': 'hpo.py',\n",
       "  'mlflow.source.type': 'LOCAL',\n",
       "  'mlflow.user': 'hilbert'}>, info=<RunInfo: artifact_uri='/home/hilbert/zoomcamps/experiment-tracking/mlruns/2/0d3efc8400fd420d8c009bacc5c4f560/artifacts', end_time=1684438921008, experiment_id='2', lifecycle_stage='active', run_id='0d3efc8400fd420d8c009bacc5c4f560', run_name='abundant-ray-949', run_uuid='0d3efc8400fd420d8c009bacc5c4f560', start_time=1684438920636, status='FINISHED', user_id='hilbert'>>]"
      ]
     },
     "execution_count": 28,
     "metadata": {},
     "output_type": "execute_result"
    }
   ],
   "source": [
    "runs"
   ]
  },
  {
   "cell_type": "code",
   "execution_count": 27,
   "metadata": {},
   "outputs": [
    {
     "data": {
      "text/plain": [
       "'7f96f97ce25a42efa16393bb70a1d5dd'"
      ]
     },
     "execution_count": 27,
     "metadata": {},
     "output_type": "execute_result"
    }
   ],
   "source": [
    "runs[2].to_dictionary()[\"info\"][\"run_id\"]"
   ]
  },
  {
   "cell_type": "code",
   "execution_count": null,
   "metadata": {},
   "outputs": [],
   "source": []
  }
 ],
 "metadata": {
  "kernelspec": {
   "display_name": "Python 3 (ipykernel)",
   "language": "python",
   "name": "python3"
  },
  "language_info": {
   "codemirror_mode": {
    "name": "ipython",
    "version": 3
   },
   "file_extension": ".py",
   "mimetype": "text/x-python",
   "name": "python",
   "nbconvert_exporter": "python",
   "pygments_lexer": "ipython3",
   "version": "3.10.9"
  },
  "orig_nbformat": 4
 },
 "nbformat": 4,
 "nbformat_minor": 2
}
